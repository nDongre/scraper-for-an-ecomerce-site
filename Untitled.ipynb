{
 "cells": [
  {
   "cell_type": "code",
   "execution_count": 1,
   "metadata": {},
   "outputs": [],
   "source": [
    "import pandas as pd"
   ]
  },
  {
   "cell_type": "code",
   "execution_count": 2,
   "metadata": {},
   "outputs": [],
   "source": [
    "data = pd.read_csv('bluetomato.csv')"
   ]
  },
  {
   "cell_type": "code",
   "execution_count": 3,
   "metadata": {},
   "outputs": [
    {
     "data": {
      "text/html": [
       "<div>\n",
       "<style scoped>\n",
       "    .dataframe tbody tr th:only-of-type {\n",
       "        vertical-align: middle;\n",
       "    }\n",
       "\n",
       "    .dataframe tbody tr th {\n",
       "        vertical-align: top;\n",
       "    }\n",
       "\n",
       "    .dataframe thead th {\n",
       "        text-align: right;\n",
       "    }\n",
       "</style>\n",
       "<table border=\"1\" class=\"dataframe\">\n",
       "  <thead>\n",
       "    <tr style=\"text-align: right;\">\n",
       "      <th></th>\n",
       "      <th>product_brand</th>\n",
       "      <th>product_image_url</th>\n",
       "      <th>product_name</th>\n",
       "      <th>product_price</th>\n",
       "      <th>product_url</th>\n",
       "    </tr>\n",
       "  </thead>\n",
       "  <tbody>\n",
       "    <tr>\n",
       "      <th>0</th>\n",
       "      <td>Lib Tech,Burton,Burton,Capita,Union,Burton,Uni...</td>\n",
       "      <td>//images.blue-tomato.com/is/image/bluetomato/3...</td>\n",
       "      <td>Lib Tech Travis Rice Orca 153 2021,Burton Step...</td>\n",
       "      <td>\\n        € 649,95,\\n        € 279,95,\\n      ...</td>\n",
       "      <td>/de-AT/product/Lib+Tech-Travis+Rice+Orca+153+2...</td>\n",
       "    </tr>\n",
       "  </tbody>\n",
       "</table>\n",
       "</div>"
      ],
      "text/plain": [
       "                                       product_brand  \\\n",
       "0  Lib Tech,Burton,Burton,Capita,Union,Burton,Uni...   \n",
       "\n",
       "                                   product_image_url  \\\n",
       "0  //images.blue-tomato.com/is/image/bluetomato/3...   \n",
       "\n",
       "                                        product_name  \\\n",
       "0  Lib Tech Travis Rice Orca 153 2021,Burton Step...   \n",
       "\n",
       "                                       product_price  \\\n",
       "0  \\n        € 649,95,\\n        € 279,95,\\n      ...   \n",
       "\n",
       "                                         product_url  \n",
       "0  /de-AT/product/Lib+Tech-Travis+Rice+Orca+153+2...  "
      ]
     },
     "execution_count": 3,
     "metadata": {},
     "output_type": "execute_result"
    }
   ],
   "source": [
    "data.head()"
   ]
  }
 ],
 "metadata": {
  "kernelspec": {
   "display_name": "Python 3",
   "language": "python",
   "name": "python3"
  },
  "language_info": {
   "codemirror_mode": {
    "name": "ipython",
    "version": 3
   },
   "file_extension": ".py",
   "mimetype": "text/x-python",
   "name": "python",
   "nbconvert_exporter": "python",
   "pygments_lexer": "ipython3",
   "version": "3.7.3"
  }
 },
 "nbformat": 4,
 "nbformat_minor": 2
}
